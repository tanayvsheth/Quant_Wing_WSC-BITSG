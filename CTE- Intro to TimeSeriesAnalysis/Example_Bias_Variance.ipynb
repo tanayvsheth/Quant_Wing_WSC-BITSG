{
  "nbformat": 4,
  "nbformat_minor": 0,
  "metadata": {
    "colab": {
      "name": "Example Bias Variance.ipynb",
      "provenance": [],
      "collapsed_sections": []
    },
    "kernelspec": {
      "name": "python3",
      "display_name": "Python 3"
    }
  },
  "cells": [
    {
      "cell_type": "code",
      "metadata": {
        "id": "0IenETlkqj_6",
        "colab_type": "code",
        "colab": {}
      },
      "source": [
        "import numpy as np\n",
        "import pandas as pd\n",
        "import random\n",
        "import matplotlib.pyplot as plt\n",
        "import seaborn as sn\n",
        "%matplotlib inline\n",
        "from matplotlib.pylab import rcParams\n",
        "from sklearn import metrics\n",
        "from sklearn.model_selection import train_test_split\n",
        "rcParams['figure.figsize'] = 8, 6"
      ],
      "execution_count": 0,
      "outputs": []
    },
    {
      "cell_type": "code",
      "metadata": {
        "id": "5rnei9fyqxCq",
        "colab_type": "code",
        "outputId": "15e6a860-3bb8-487c-a81f-0c7e5b94837e",
        "colab": {
          "base_uri": "https://localhost:8080/",
          "height": 390
        }
      },
      "source": [
        "np.random.seed(10)\n",
        "x = np.array([i*np.pi/180 for i in range(60,300,4)]) #Generating x values usig loop\n",
        "y = np.sin(x) + np.random.normal(0,0.15,len(x))#Finding the respective sine \n",
        "curve = pd.DataFrame(np.column_stack([x,y]),columns=['x','y'])#Making a dataframe\n",
        "plt.plot(curve['x'],curve['y'],'.')#Plotting using matplotlib"
      ],
      "execution_count": 0,
      "outputs": [
        {
          "output_type": "execute_result",
          "data": {
            "text/plain": [
              "[<matplotlib.lines.Line2D at 0x7fba521d3dd8>]"
            ]
          },
          "metadata": {
            "tags": []
          },
          "execution_count": 3
        },
        {
          "output_type": "display_data",
          "data": {
            "image/png": "[encoded data removed]",
            "text/plain": [
              "<Figure size 576x432 with 1 Axes>"
            ]
          },
          "metadata": {
            "tags": []
          }
        }
      ]
    },
    {
      "cell_type": "code",
      "metadata": {
        "id": "KDhcoyU8whCU",
        "colab_type": "code",
        "colab": {}
      },
      "source": [
        "def fit_poly( degree ):\n",
        "    p = np.polyfit( curve.x, curve.y, deg = degree ) #Least squares polynomial fit using numpy\n",
        "    curve['fit'] = np.polyval( p, curve.x )\n",
        "    sn.regplot( curve.x, curve.y, fit_reg = False )\n",
        "    return plt.plot( curve.x, curve.fit, label='fit' )"
      ],
      "execution_count": 0,
      "outputs": []
    },
    {
      "cell_type": "code",
      "metadata": {
        "id": "aaTQ2udy5uk7",
        "colab_type": "code",
        "outputId": "0fa433d0-6d78-4b7e-87a9-1b451b7f92eb",
        "colab": {
          "base_uri": "https://localhost:8080/",
          "height": 405
        }
      },
      "source": [
        "fit_poly(1)"
      ],
      "execution_count": 0,
      "outputs": [
        {
          "output_type": "execute_result",
          "data": {
            "text/plain": [
              "[<matplotlib.lines.Line2D at 0x7fba2865b940>]"
            ]
          },
          "metadata": {
            "tags": []
          },
          "execution_count": 5
        },
        {
          "output_type": "display_data",
          "data": {
            "image/png": "[encoded data removed]",
            "text/plain": [
              "<Figure size 576x432 with 1 Axes>"
            ]
          },
          "metadata": {
            "tags": []
          }
        }
      ]
    },
    {
      "cell_type": "code",
      "metadata": {
        "id": "U0PyOx4c5vxK",
        "colab_type": "code",
        "outputId": "86fe05f3-58c6-486c-eceb-1cf10c7c8e94",
        "colab": {
          "base_uri": "https://localhost:8080/",
          "height": 405
        }
      },
      "source": [
        "fit_poly(2)\n"
      ],
      "execution_count": 0,
      "outputs": [
        {
          "output_type": "execute_result",
          "data": {
            "text/plain": [
              "[<matplotlib.lines.Line2D at 0x7fba2865b4e0>]"
            ]
          },
          "metadata": {
            "tags": []
          },
          "execution_count": 6
        },
        {
          "output_type": "display_data",
          "data": {
            "image/png": "[encoded data removed]",
            "text/plain": [
              "<Figure size 576x432 with 1 Axes>"
            ]
          },
          "metadata": {
            "tags": []
          }
        }
      ]
    },
    {
      "cell_type": "code",
      "metadata": {
        "id": "SR4iSwMt5xE0",
        "colab_type": "code",
        "outputId": "91bb3386-d70f-4446-ca76-88f501c54586",
        "colab": {
          "base_uri": "https://localhost:8080/",
          "height": 405
        }
      },
      "source": [
        "fit_poly(3)"
      ],
      "execution_count": 0,
      "outputs": [
        {
          "output_type": "execute_result",
          "data": {
            "text/plain": [
              "[<matplotlib.lines.Line2D at 0x7fba27e91550>]"
            ]
          },
          "metadata": {
            "tags": []
          },
          "execution_count": 7
        },
        {
          "output_type": "display_data",
          "data": {
            "image/png": "[encoded data removed]",
            "text/plain": [
              "<Figure size 576x432 with 1 Axes>"
            ]
          },
          "metadata": {
            "tags": []
          }
        }
      ]
    },
    {
      "cell_type": "code",
      "metadata": {
        "id": "JvDbJn_55zJd",
        "colab_type": "code",
        "colab": {}
      },
      "source": [
        "def get_rmse( y, y_fit ):\n",
        "    return np.sqrt( metrics.mean_squared_error( y, y_fit ) )"
      ],
      "execution_count": 0,
      "outputs": []
    },
    {
      "cell_type": "code",
      "metadata": {
        "id": "RkUEsKmA6Co2",
        "colab_type": "code",
        "colab": {}
      },
      "source": [
        "train_X, test_X, train_y, test_y = train_test_split( curve.x,\n",
        "                                                  curve.y,\n",
        "                                                  test_size = 0.40,\n",
        "                                                  random_state = 100 )"
      ],
      "execution_count": 0,
      "outputs": []
    },
    {
      "cell_type": "code",
      "metadata": {
        "id": "vt6W1zpN6DHN",
        "colab_type": "code",
        "colab": {}
      },
      "source": [
        "rmse_df = pd.DataFrame( columns = [\"degree\", \"rmse_train\", \"rmse_test\"] )\n",
        "\n",
        "for i in range( 1, 15 ):\n",
        "    p = np.polyfit( train_X, train_y, deg = i )\n",
        "    rmse_df.loc[i-1] = [ i,\n",
        "                      get_rmse( train_y, np.polyval( p, train_X ) ),\n",
        "                      get_rmse( test_y, np.polyval( p, test_X ) ) ]"
      ],
      "execution_count": 0,
      "outputs": []
    },
    {
      "cell_type": "code",
      "metadata": {
        "id": "FBasb0Rl6LF9",
        "colab_type": "code",
        "outputId": "90df9896-5c02-49b9-e542-8b82a184a1cf",
        "colab": {
          "base_uri": "https://localhost:8080/",
          "height": 465
        }
      },
      "source": [
        "rmse_df"
      ],
      "execution_count": 0,
      "outputs": [
        {
          "output_type": "execute_result",
          "data": {
            "text/html": [
              "<div>\n",
              "<style scoped>\n",
              "    .dataframe tbody tr th:only-of-type {\n",
              "        vertical-align: middle;\n",
              "    }\n",
              "\n",
              "    .dataframe tbody tr th {\n",
              "        vertical-align: top;\n",
              "    }\n",
              "\n",
              "    .dataframe thead th {\n",
              "        text-align: right;\n",
              "    }\n",
              "</style>\n",
              "<table border=\"1\" class=\"dataframe\">\n",
              "  <thead>\n",
              "    <tr style=\"text-align: right;\">\n",
              "      <th></th>\n",
              "      <th>degree</th>\n",
              "      <th>rmse_train</th>\n",
              "      <th>rmse_test</th>\n",
              "    </tr>\n",
              "  </thead>\n",
              "  <tbody>\n",
              "    <tr>\n",
              "      <th>0</th>\n",
              "      <td>1.0</td>\n",
              "      <td>0.231569</td>\n",
              "      <td>0.237707</td>\n",
              "    </tr>\n",
              "    <tr>\n",
              "      <th>1</th>\n",
              "      <td>2.0</td>\n",
              "      <td>0.229154</td>\n",
              "      <td>0.244414</td>\n",
              "    </tr>\n",
              "    <tr>\n",
              "      <th>2</th>\n",
              "      <td>3.0</td>\n",
              "      <td>0.115409</td>\n",
              "      <td>0.165920</td>\n",
              "    </tr>\n",
              "    <tr>\n",
              "      <th>3</th>\n",
              "      <td>4.0</td>\n",
              "      <td>0.113938</td>\n",
              "      <td>0.164451</td>\n",
              "    </tr>\n",
              "    <tr>\n",
              "      <th>4</th>\n",
              "      <td>5.0</td>\n",
              "      <td>0.110525</td>\n",
              "      <td>0.159416</td>\n",
              "    </tr>\n",
              "    <tr>\n",
              "      <th>5</th>\n",
              "      <td>6.0</td>\n",
              "      <td>0.105360</td>\n",
              "      <td>0.166479</td>\n",
              "    </tr>\n",
              "    <tr>\n",
              "      <th>6</th>\n",
              "      <td>7.0</td>\n",
              "      <td>0.104923</td>\n",
              "      <td>0.161330</td>\n",
              "    </tr>\n",
              "    <tr>\n",
              "      <th>7</th>\n",
              "      <td>8.0</td>\n",
              "      <td>0.104414</td>\n",
              "      <td>0.157364</td>\n",
              "    </tr>\n",
              "    <tr>\n",
              "      <th>8</th>\n",
              "      <td>9.0</td>\n",
              "      <td>0.100549</td>\n",
              "      <td>0.160113</td>\n",
              "    </tr>\n",
              "    <tr>\n",
              "      <th>9</th>\n",
              "      <td>10.0</td>\n",
              "      <td>0.100393</td>\n",
              "      <td>0.158239</td>\n",
              "    </tr>\n",
              "    <tr>\n",
              "      <th>10</th>\n",
              "      <td>11.0</td>\n",
              "      <td>0.100368</td>\n",
              "      <td>0.156214</td>\n",
              "    </tr>\n",
              "    <tr>\n",
              "      <th>11</th>\n",
              "      <td>12.0</td>\n",
              "      <td>0.100174</td>\n",
              "      <td>0.159986</td>\n",
              "    </tr>\n",
              "    <tr>\n",
              "      <th>12</th>\n",
              "      <td>13.0</td>\n",
              "      <td>0.087312</td>\n",
              "      <td>0.374495</td>\n",
              "    </tr>\n",
              "    <tr>\n",
              "      <th>13</th>\n",
              "      <td>14.0</td>\n",
              "      <td>0.070775</td>\n",
              "      <td>0.579858</td>\n",
              "    </tr>\n",
              "  </tbody>\n",
              "</table>\n",
              "</div>"
            ],
            "text/plain": [
              "    degree  rmse_train  rmse_test\n",
              "0      1.0    0.231569   0.237707\n",
              "1      2.0    0.229154   0.244414\n",
              "2      3.0    0.115409   0.165920\n",
              "3      4.0    0.113938   0.164451\n",
              "4      5.0    0.110525   0.159416\n",
              "5      6.0    0.105360   0.166479\n",
              "6      7.0    0.104923   0.161330\n",
              "7      8.0    0.104414   0.157364\n",
              "8      9.0    0.100549   0.160113\n",
              "9     10.0    0.100393   0.158239\n",
              "10    11.0    0.100368   0.156214\n",
              "11    12.0    0.100174   0.159986\n",
              "12    13.0    0.087312   0.374495\n",
              "13    14.0    0.070775   0.579858"
            ]
          },
          "metadata": {
            "tags": []
          },
          "execution_count": 12
        }
      ]
    },
    {
      "cell_type": "code",
      "metadata": {
        "id": "dm67mUkB6rP5",
        "colab_type": "code",
        "outputId": "4831a829-05d5-4db9-efe6-6a8f51a00413",
        "colab": {
          "base_uri": "https://localhost:8080/",
          "height": 392
        }
      },
      "source": [
        "plt.plot( rmse_df.degree,\n",
        "       rmse_df.rmse_train,\n",
        "       label='train',\n",
        "       color = 'r' )\n",
        "\n",
        "plt.plot( rmse_df.degree,\n",
        "       rmse_df.rmse_test,\n",
        "       label='test',\n",
        "       color = 'g' )\n",
        "\n",
        "plt.legend(bbox_to_anchor=(1.05, 1),\n",
        "         loc=2,\n",
        "         borderaxespad=0.)"
      ],
      "execution_count": 0,
      "outputs": [
        {
          "output_type": "execute_result",
          "data": {
            "text/plain": [
              "<matplotlib.legend.Legend at 0x7fba254c9518>"
            ]
          },
          "metadata": {
            "tags": []
          },
          "execution_count": 13
        },
        {
          "output_type": "display_data",
          "data": {
            "image/png": "[encoded data removed]",
            "text/plain": [
              "<Figure size 576x432 with 1 Axes>"
            ]
          },
          "metadata": {
            "tags": []
          }
        }
      ]
    },
    {
      "cell_type": "code",
      "metadata": {
        "id": "hM6T3NQE6vmQ",
        "colab_type": "code",
        "colab": {}
      },
      "source": [
        ""
      ],
      "execution_count": 0,
      "outputs": []
    }
  ]
}